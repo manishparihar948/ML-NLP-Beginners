{
 "cells": [
  {
   "cell_type": "code",
   "execution_count": 1,
   "id": "43034c2a",
   "metadata": {},
   "outputs": [],
   "source": [
    "import pandas as pd\n",
    "import os\n"
   ]
  },
  {
   "cell_type": "code",
   "execution_count": 2,
   "id": "ddc02476-cc08-4a8f-9dc8-c15037edc7ae",
   "metadata": {},
   "outputs": [],
   "source": [
    "file_path = '/Users/manishparihar/Desktop/CodeBox/ML/ML-NLP-Beginners/USPatient/train.csv'\n",
    "# Get the absolute path\n",
    "absolute_path = os.path.abspath(file_path)"
   ]
  },
  {
   "cell_type": "code",
   "execution_count": 3,
   "id": "666c5d9c-a033-4e92-9c2a-b6d0d143fe1f",
   "metadata": {},
   "outputs": [],
   "source": [
    "if os.path.exists(file_path):\n",
    "    df = pd.read_csv(file_path)\n",
    "else:\n",
    "    print(f\"The file '{file_path}' does not exist.\")"
   ]
  },
  {
   "cell_type": "code",
   "execution_count": 4,
   "id": "04fc5aab-ced8-4daf-a050-fbd0bf03131b",
   "metadata": {},
   "outputs": [
    {
     "data": {
      "text/html": [
       "<div>\n",
       "<style scoped>\n",
       "    .dataframe tbody tr th:only-of-type {\n",
       "        vertical-align: middle;\n",
       "    }\n",
       "\n",
       "    .dataframe tbody tr th {\n",
       "        vertical-align: top;\n",
       "    }\n",
       "\n",
       "    .dataframe thead th {\n",
       "        text-align: right;\n",
       "    }\n",
       "</style>\n",
       "<table border=\"1\" class=\"dataframe\">\n",
       "  <thead>\n",
       "    <tr style=\"text-align: right;\">\n",
       "      <th></th>\n",
       "      <th>id</th>\n",
       "      <th>anchor</th>\n",
       "      <th>target</th>\n",
       "      <th>context</th>\n",
       "      <th>score</th>\n",
       "    </tr>\n",
       "  </thead>\n",
       "  <tbody>\n",
       "    <tr>\n",
       "      <th>0</th>\n",
       "      <td>37d61fd2272659b1</td>\n",
       "      <td>abatement</td>\n",
       "      <td>abatement of pollution</td>\n",
       "      <td>A47</td>\n",
       "      <td>0.50</td>\n",
       "    </tr>\n",
       "    <tr>\n",
       "      <th>1</th>\n",
       "      <td>7b9652b17b68b7a4</td>\n",
       "      <td>abatement</td>\n",
       "      <td>act of abating</td>\n",
       "      <td>A47</td>\n",
       "      <td>0.75</td>\n",
       "    </tr>\n",
       "    <tr>\n",
       "      <th>2</th>\n",
       "      <td>36d72442aefd8232</td>\n",
       "      <td>abatement</td>\n",
       "      <td>active catalyst</td>\n",
       "      <td>A47</td>\n",
       "      <td>0.25</td>\n",
       "    </tr>\n",
       "    <tr>\n",
       "      <th>3</th>\n",
       "      <td>5296b0c19e1ce60e</td>\n",
       "      <td>abatement</td>\n",
       "      <td>eliminating process</td>\n",
       "      <td>A47</td>\n",
       "      <td>0.50</td>\n",
       "    </tr>\n",
       "    <tr>\n",
       "      <th>4</th>\n",
       "      <td>54c1e3b9184cb5b6</td>\n",
       "      <td>abatement</td>\n",
       "      <td>forest region</td>\n",
       "      <td>A47</td>\n",
       "      <td>0.00</td>\n",
       "    </tr>\n",
       "    <tr>\n",
       "      <th>...</th>\n",
       "      <td>...</td>\n",
       "      <td>...</td>\n",
       "      <td>...</td>\n",
       "      <td>...</td>\n",
       "      <td>...</td>\n",
       "    </tr>\n",
       "    <tr>\n",
       "      <th>36468</th>\n",
       "      <td>8e1386cbefd7f245</td>\n",
       "      <td>wood article</td>\n",
       "      <td>wooden article</td>\n",
       "      <td>B44</td>\n",
       "      <td>1.00</td>\n",
       "    </tr>\n",
       "    <tr>\n",
       "      <th>36469</th>\n",
       "      <td>42d9e032d1cd3242</td>\n",
       "      <td>wood article</td>\n",
       "      <td>wooden box</td>\n",
       "      <td>B44</td>\n",
       "      <td>0.50</td>\n",
       "    </tr>\n",
       "    <tr>\n",
       "      <th>36470</th>\n",
       "      <td>208654ccb9e14fa3</td>\n",
       "      <td>wood article</td>\n",
       "      <td>wooden handle</td>\n",
       "      <td>B44</td>\n",
       "      <td>0.50</td>\n",
       "    </tr>\n",
       "    <tr>\n",
       "      <th>36471</th>\n",
       "      <td>756ec035e694722b</td>\n",
       "      <td>wood article</td>\n",
       "      <td>wooden material</td>\n",
       "      <td>B44</td>\n",
       "      <td>0.75</td>\n",
       "    </tr>\n",
       "    <tr>\n",
       "      <th>36472</th>\n",
       "      <td>8d135da0b55b8c88</td>\n",
       "      <td>wood article</td>\n",
       "      <td>wooden substrate</td>\n",
       "      <td>B44</td>\n",
       "      <td>0.50</td>\n",
       "    </tr>\n",
       "  </tbody>\n",
       "</table>\n",
       "<p>36473 rows × 5 columns</p>\n",
       "</div>"
      ],
      "text/plain": [
       "                     id        anchor                  target context  score\n",
       "0      37d61fd2272659b1     abatement  abatement of pollution     A47   0.50\n",
       "1      7b9652b17b68b7a4     abatement          act of abating     A47   0.75\n",
       "2      36d72442aefd8232     abatement         active catalyst     A47   0.25\n",
       "3      5296b0c19e1ce60e     abatement     eliminating process     A47   0.50\n",
       "4      54c1e3b9184cb5b6     abatement           forest region     A47   0.00\n",
       "...                 ...           ...                     ...     ...    ...\n",
       "36468  8e1386cbefd7f245  wood article          wooden article     B44   1.00\n",
       "36469  42d9e032d1cd3242  wood article              wooden box     B44   0.50\n",
       "36470  208654ccb9e14fa3  wood article           wooden handle     B44   0.50\n",
       "36471  756ec035e694722b  wood article         wooden material     B44   0.75\n",
       "36472  8d135da0b55b8c88  wood article        wooden substrate     B44   0.50\n",
       "\n",
       "[36473 rows x 5 columns]"
      ]
     },
     "execution_count": 4,
     "metadata": {},
     "output_type": "execute_result"
    }
   ],
   "source": [
    "df"
   ]
  },
  {
   "cell_type": "code",
   "execution_count": 5,
   "id": "85778405-02db-49dd-a823-fad45fe22add",
   "metadata": {},
   "outputs": [
    {
     "data": {
      "text/html": [
       "<div>\n",
       "<style scoped>\n",
       "    .dataframe tbody tr th:only-of-type {\n",
       "        vertical-align: middle;\n",
       "    }\n",
       "\n",
       "    .dataframe tbody tr th {\n",
       "        vertical-align: top;\n",
       "    }\n",
       "\n",
       "    .dataframe thead th {\n",
       "        text-align: right;\n",
       "    }\n",
       "</style>\n",
       "<table border=\"1\" class=\"dataframe\">\n",
       "  <thead>\n",
       "    <tr style=\"text-align: right;\">\n",
       "      <th></th>\n",
       "      <th>id</th>\n",
       "      <th>anchor</th>\n",
       "      <th>target</th>\n",
       "      <th>context</th>\n",
       "    </tr>\n",
       "  </thead>\n",
       "  <tbody>\n",
       "    <tr>\n",
       "      <th>count</th>\n",
       "      <td>36473</td>\n",
       "      <td>36473</td>\n",
       "      <td>36473</td>\n",
       "      <td>36473</td>\n",
       "    </tr>\n",
       "    <tr>\n",
       "      <th>unique</th>\n",
       "      <td>36473</td>\n",
       "      <td>733</td>\n",
       "      <td>29340</td>\n",
       "      <td>106</td>\n",
       "    </tr>\n",
       "    <tr>\n",
       "      <th>top</th>\n",
       "      <td>37d61fd2272659b1</td>\n",
       "      <td>component composite coating</td>\n",
       "      <td>composition</td>\n",
       "      <td>H01</td>\n",
       "    </tr>\n",
       "    <tr>\n",
       "      <th>freq</th>\n",
       "      <td>1</td>\n",
       "      <td>152</td>\n",
       "      <td>24</td>\n",
       "      <td>2186</td>\n",
       "    </tr>\n",
       "  </tbody>\n",
       "</table>\n",
       "</div>"
      ],
      "text/plain": [
       "                      id                       anchor       target context\n",
       "count              36473                        36473        36473   36473\n",
       "unique             36473                          733        29340     106\n",
       "top     37d61fd2272659b1  component composite coating  composition     H01\n",
       "freq                   1                          152           24    2186"
      ]
     },
     "execution_count": 5,
     "metadata": {},
     "output_type": "execute_result"
    }
   ],
   "source": [
    "df.describe(include='object')"
   ]
  },
  {
   "cell_type": "markdown",
   "id": "64aa36c3-7e44-46dd-8727-58dd7ef6ed60",
   "metadata": {},
   "source": [
    "We can see that in the 36473 rows, there are 733 unique anchors, 106 contexts\n",
    "and 30000 targets. Some anchors are very common, with \"component composite coating\" \n",
    "for instance appearing 152 times "
   ]
  },
  {
   "cell_type": "code",
   "execution_count": 6,
   "id": "f1fe7640-4e47-46a5-a3c1-575f4a52f928",
   "metadata": {},
   "outputs": [],
   "source": [
    "df['input'] = 'TEXT1: ' + df.context + '; TEXT2: ' + df.target + '; ANC1: ' +  df.anchor"
   ]
  },
  {
   "cell_type": "code",
   "execution_count": 7,
   "id": "e50fd63a-c2f7-4093-8213-24dfd457aed0",
   "metadata": {},
   "outputs": [
    {
     "data": {
      "text/plain": [
       "0    TEXT1: A47; TEXT2: abatement of pollution; ANC...\n",
       "1    TEXT1: A47; TEXT2: act of abating; ANC1: abate...\n",
       "2    TEXT1: A47; TEXT2: active catalyst; ANC1: abat...\n",
       "3    TEXT1: A47; TEXT2: eliminating process; ANC1: ...\n",
       "4    TEXT1: A47; TEXT2: forest region; ANC1: abatement\n",
       "Name: input, dtype: object"
      ]
     },
     "execution_count": 7,
     "metadata": {},
     "output_type": "execute_result"
    }
   ],
   "source": [
    "df.input.head()"
   ]
  },
  {
   "cell_type": "raw",
   "id": "e7259689-29cf-4a6d-b70b-1516ddbbb14f",
   "metadata": {},
   "source": [
    "Tokenization"
   ]
  },
  {
   "cell_type": "markdown",
   "id": "bd060fcd-78a2-4061-a6de-3e7048b58eca",
   "metadata": {},
   "source": [
    "Transformers uses a Dataset object for storing a.. well a dataset."
   ]
  },
  {
   "cell_type": "code",
   "execution_count": 8,
   "id": "9594e49e-f86e-46ea-a01b-980d7ad14a33",
   "metadata": {},
   "outputs": [],
   "source": [
    "from datasets import Dataset, DatasetDict\n",
    "ds = Dataset.from_pandas(df)"
   ]
  },
  {
   "cell_type": "code",
   "execution_count": 9,
   "id": "f4c013b0-7b86-43d6-9a0d-3d72543946ae",
   "metadata": {},
   "outputs": [
    {
     "data": {
      "text/plain": [
       "Dataset({\n",
       "    features: ['id', 'anchor', 'target', 'context', 'score', 'input'],\n",
       "    num_rows: 36473\n",
       "})"
      ]
     },
     "execution_count": 9,
     "metadata": {},
     "output_type": "execute_result"
    }
   ],
   "source": [
    "ds"
   ]
  },
  {
   "cell_type": "markdown",
   "id": "0baf715b-ee82-4c17-a123-a65b0c30aba1",
   "metadata": {},
   "source": [
    "But we cannot pass the texts directly into the model. A deep learning model expects numbers as input, not English sentences\n",
    "So we need to do two things:\n",
    "1. Tokenization: Split ech text up into words\n",
    "2. Numericalization: Convert each word (or token) into a number\n",
    "\n",
    "The details about how this is done actually depend upon the particular model we choose. So first we will need to pick a model.\n",
    "There are thousands of models, but a reasonable starting point  for nearly a NLP problem is to use this (replace \"small\" with \"large\")\n",
    "for a slower but more accurate model,  once you have finished exploring."
   ]
  },
  {
   "cell_type": "code",
   "execution_count": 10,
   "id": "67b20601-c27f-4b4f-a93a-7f331035b439",
   "metadata": {},
   "outputs": [],
   "source": [
    "#model_nm = 'microsoft/deberta-v3-small'\n",
    "model_nm = \"bert-base-uncased\""
   ]
  },
  {
   "cell_type": "markdown",
   "id": "5516893c-daa2-48d1-9570-199615d6c63f",
   "metadata": {},
   "source": [
    "AutoTokenizer will create a tokenizer appropriate for a given model"
   ]
  },
  {
   "cell_type": "code",
   "execution_count": 11,
   "id": "41916e7b-1851-46c9-a20c-43e40a6ed76d",
   "metadata": {},
   "outputs": [],
   "source": [
    "from transformers import AutoModelForSequenceClassification, AutoTokenizer\n",
    "tokz = AutoTokenizer.from_pretrained(model_nm)"
   ]
  },
  {
   "cell_type": "markdown",
   "id": "6100297c-3153-4d14-a478-a8d50c4663cc",
   "metadata": {},
   "source": [
    "Special tokenss have been added in the vocabulary, make sure the associated word embeddings are fine-tuned or trained"
   ]
  },
  {
   "cell_type": "raw",
   "id": "71b33dd4-e80d-4ded-bf45-29872579bf2a",
   "metadata": {},
   "source": [
    "here is an example how the tokenizer splits a text into \"tokens\" (which are like words, but can be sub-word pieces)"
   ]
  },
  {
   "cell_type": "code",
   "execution_count": 12,
   "id": "c2e02cb8-aa48-4642-9183-0834f090e8ce",
   "metadata": {},
   "outputs": [
    {
     "data": {
      "text/plain": [
       "['g',\n",
       " \"'\",\n",
       " 'day',\n",
       " 'folks',\n",
       " ',',\n",
       " 'i',\n",
       " \"'\",\n",
       " 'm',\n",
       " 'mani',\n",
       " '##sh',\n",
       " 'from',\n",
       " 'man',\n",
       " '.',\n",
       " 'ai',\n",
       " '!']"
      ]
     },
     "execution_count": 12,
     "metadata": {},
     "output_type": "execute_result"
    }
   ],
   "source": [
    "tokz.tokenize(\"G' day folks, I'm Manish from man.ai!\")"
   ]
  },
  {
   "cell_type": "code",
   "execution_count": 13,
   "id": "29cfbf3e-6fbe-46c4-a9ee-6fe6e2f0f3bc",
   "metadata": {},
   "outputs": [
    {
     "data": {
      "text/plain": [
       "['a',\n",
       " 'pl',\n",
       " '##at',\n",
       " '##yp',\n",
       " '##us',\n",
       " 'is',\n",
       " 'an',\n",
       " 'or',\n",
       " '##ni',\n",
       " '##thor',\n",
       " '##hy',\n",
       " '##nch',\n",
       " '##us',\n",
       " 'ana',\n",
       " '##tin',\n",
       " '##us',\n",
       " '.']"
      ]
     },
     "execution_count": 13,
     "metadata": {},
     "output_type": "execute_result"
    }
   ],
   "source": [
    "tokz.tokenize(\"A platypus is an ornithorhynchus anatinus.\")"
   ]
  },
  {
   "cell_type": "markdown",
   "id": "764fc517-afaf-4990-9941-338ae1ed18b7",
   "metadata": {},
   "source": [
    "Here's a simple function which tokenizes our inputs:"
   ]
  },
  {
   "cell_type": "code",
   "execution_count": 14,
   "id": "5470246a-3c55-43c1-a6b5-82bc562e9603",
   "metadata": {},
   "outputs": [],
   "source": [
    "def tok_func(x): return tokz(x[\"input\"])"
   ]
  },
  {
   "cell_type": "raw",
   "id": "f23317a0-7506-448b-8279-b60fc996bff7",
   "metadata": {},
   "source": [
    "To run this quickly in parallel on every row in our dataset, use map"
   ]
  },
  {
   "cell_type": "code",
   "execution_count": 15,
   "id": "ab61c659-354c-458e-85f1-594143214cdb",
   "metadata": {},
   "outputs": [
    {
     "name": "stdout",
     "output_type": "stream",
     "text": [
      "huggingface/tokenizers: The current process just got forked, after parallelism has already been used. Disabling parallelism to avoid deadlocks...\n",
      "To disable this warning, you can either:\n",
      "\t- Avoid using `tokenizers` before the fork if possible\n",
      "\t- Explicitly set the environment variable TOKENIZERS_PARALLELISM=(true | false)\n"
     ]
    },
    {
     "data": {
      "application/vnd.jupyter.widget-view+json": {
       "model_id": "70a316e13c4a45b4b5a309c5d81595be",
       "version_major": 2,
       "version_minor": 0
      },
      "text/plain": [
       "Map:   0%|          | 0/36473 [00:00<?, ? examples/s]"
      ]
     },
     "metadata": {},
     "output_type": "display_data"
    }
   ],
   "source": [
    "toks_ds = ds.map(tok_func, batched=True)"
   ]
  },
  {
   "cell_type": "markdown",
   "id": "31fbbe42-b90c-4001-bf24-32ff09c608df",
   "metadata": {},
   "source": [
    "This adds a new item to our dataset called input_ids. For instance, here is the input and IDs for the first row of our data:"
   ]
  },
  {
   "cell_type": "code",
   "execution_count": 16,
   "id": "cd037b2d-ddfa-4c5f-a700-8a8359a92f83",
   "metadata": {},
   "outputs": [
    {
     "data": {
      "text/plain": [
       "('TEXT1: A47; TEXT2: abatement of pollution; ANC1: abatement',\n",
       " [101,\n",
       "  3793,\n",
       "  2487,\n",
       "  1024,\n",
       "  1037,\n",
       "  22610,\n",
       "  1025,\n",
       "  3793,\n",
       "  2475,\n",
       "  1024,\n",
       "  19557,\n",
       "  18532,\n",
       "  4765,\n",
       "  1997,\n",
       "  10796,\n",
       "  1025,\n",
       "  2019,\n",
       "  2278,\n",
       "  2487,\n",
       "  1024,\n",
       "  19557,\n",
       "  18532,\n",
       "  4765,\n",
       "  102])"
      ]
     },
     "execution_count": 16,
     "metadata": {},
     "output_type": "execute_result"
    }
   ],
   "source": [
    "row = toks_ds[0]\n",
    "row['input'], row['input_ids']"
   ]
  },
  {
   "cell_type": "markdown",
   "id": "ee188b5f-d4de-4e45-8c8f-c1361da3d755",
   "metadata": {},
   "source": [
    "So, what are those IDs and where do they come from? The secret is that there's a list called vocab in the tokenizer which contains a unique integer for every possible token string. We can look them up like this, for instance to find the token for the word \"of\":"
   ]
  },
  {
   "cell_type": "code",
   "execution_count": 17,
   "id": "dc78716b-94f8-4658-92ae-75c78bafc473",
   "metadata": {},
   "outputs": [
    {
     "data": {
      "text/plain": [
       "1997"
      ]
     },
     "execution_count": 17,
     "metadata": {},
     "output_type": "execute_result"
    }
   ],
   "source": [
    "tokz.vocab['of']"
   ]
  },
  {
   "cell_type": "markdown",
   "id": "06859427-b7b3-4f6f-b19d-873318b665a6",
   "metadata": {},
   "source": [
    "Looking above at our input IDs, we do indeed see that 1997 appears as expected.\n",
    "\n",
    "Finally, we need to prepare our labels. Transformers always assumes that your labels has the column name labels, but in our dataset it's currently score. Therefore, we need to rename it:"
   ]
  },
  {
   "cell_type": "code",
   "execution_count": 18,
   "id": "0ee49791-33ae-4dd4-af03-f4235496b0fb",
   "metadata": {},
   "outputs": [],
   "source": [
    "toks_ds = toks_ds.rename_columns({'score':'labels'})"
   ]
  },
  {
   "cell_type": "markdown",
   "id": "e03da9ca-a3d5-4724-ad2e-f0dce9470293",
   "metadata": {},
   "source": [
    "Now that we've prepared our tokens and labels, we need to create our validation set."
   ]
  },
  {
   "cell_type": "markdown",
   "id": "14978ac2-98e3-4471-a39c-d0afe09b7d20",
   "metadata": {},
   "source": [
    "Test and validation sets\n"
   ]
  },
  {
   "cell_type": "code",
   "execution_count": 19,
   "id": "1be4fabf-1984-490c-88a8-6fae9106de5d",
   "metadata": {},
   "outputs": [
    {
     "data": {
      "text/html": [
       "<div>\n",
       "<style scoped>\n",
       "    .dataframe tbody tr th:only-of-type {\n",
       "        vertical-align: middle;\n",
       "    }\n",
       "\n",
       "    .dataframe tbody tr th {\n",
       "        vertical-align: top;\n",
       "    }\n",
       "\n",
       "    .dataframe thead th {\n",
       "        text-align: right;\n",
       "    }\n",
       "</style>\n",
       "<table border=\"1\" class=\"dataframe\">\n",
       "  <thead>\n",
       "    <tr style=\"text-align: right;\">\n",
       "      <th></th>\n",
       "      <th>id</th>\n",
       "      <th>anchor</th>\n",
       "      <th>target</th>\n",
       "      <th>context</th>\n",
       "    </tr>\n",
       "  </thead>\n",
       "  <tbody>\n",
       "    <tr>\n",
       "      <th>count</th>\n",
       "      <td>36</td>\n",
       "      <td>36</td>\n",
       "      <td>36</td>\n",
       "      <td>36</td>\n",
       "    </tr>\n",
       "    <tr>\n",
       "      <th>unique</th>\n",
       "      <td>36</td>\n",
       "      <td>34</td>\n",
       "      <td>36</td>\n",
       "      <td>29</td>\n",
       "    </tr>\n",
       "    <tr>\n",
       "      <th>top</th>\n",
       "      <td>4112d61851461f60</td>\n",
       "      <td>el display</td>\n",
       "      <td>inorganic photoconductor drum</td>\n",
       "      <td>G02</td>\n",
       "    </tr>\n",
       "    <tr>\n",
       "      <th>freq</th>\n",
       "      <td>1</td>\n",
       "      <td>2</td>\n",
       "      <td>1</td>\n",
       "      <td>3</td>\n",
       "    </tr>\n",
       "  </tbody>\n",
       "</table>\n",
       "</div>"
      ],
      "text/plain": [
       "                      id      anchor                         target context\n",
       "count                 36          36                             36      36\n",
       "unique                36          34                             36      29\n",
       "top     4112d61851461f60  el display  inorganic photoconductor drum     G02\n",
       "freq                   1           2                              1       3"
      ]
     },
     "execution_count": 19,
     "metadata": {},
     "output_type": "execute_result"
    }
   ],
   "source": [
    "eval_df = pd.read_csv('/Users/manishparihar/Desktop/CodeBox/ML/ML-NLP-Beginners/USPatient/test.csv')\n",
    "eval_df.describe()\n"
   ]
  },
  {
   "cell_type": "markdown",
   "id": "87fb1338-348e-4216-9215-642c2924f2e9",
   "metadata": {},
   "source": [
    "This is the test set. Possibly the most important idea in machine learning is that of having separate training, validation, and test data sets."
   ]
  },
  {
   "cell_type": "markdown",
   "id": "b6a3133c-2d66-4bf5-9cfe-42fe201cd10a",
   "metadata": {},
   "source": [
    "Validation set\n"
   ]
  },
  {
   "cell_type": "markdown",
   "id": "a547b4e6-a584-47d6-a40c-054ed603744e",
   "metadata": {},
   "source": [
    "To explain the motivation, let's start simple, and imagine we're trying to fit a model where the true relationship is this quadratic:"
   ]
  },
  {
   "cell_type": "markdown",
   "id": "5f6de571-f8d9-424a-a6d0-6ae53ca1f483",
   "metadata": {},
   "source": [
    "Unfortunately matplotlib (the most common library for plotting in Python) doesn't come with a way to visualize a function, so we'll write something to do this ourselves:"
   ]
  },
  {
   "cell_type": "code",
   "execution_count": 20,
   "id": "1dc54743-c19c-4082-a596-3453dee80a20",
   "metadata": {},
   "outputs": [],
   "source": [
    "def f(x): return -3*x**2 + 2*x + 20\n"
   ]
  },
  {
   "cell_type": "code",
   "execution_count": 21,
   "id": "eb21286a-8de4-4875-bfc3-23d448947421",
   "metadata": {},
   "outputs": [],
   "source": [
    "import numpy as np, matplotlib.pyplot as plt\n",
    "\n",
    "def plot_function(f, min=-2.1, max=2.1, color='r'):\n",
    "    x = np.linspace(min,max, 100)[:,None]\n",
    "    plt.plot(x, f(x), color)\n"
   ]
  },
  {
   "cell_type": "code",
   "execution_count": 22,
   "id": "7c948914-7230-4965-8822-0fe46e950718",
   "metadata": {},
   "outputs": [
    {
     "data": {
      "image/png": "[encoded data removed]",
      "text/plain": [
       "<Figure size 640x480 with 1 Axes>"
      ]
     },
     "metadata": {},
     "output_type": "display_data"
    }
   ],
   "source": [
    "plot_function(f)\n"
   ]
  },
  {
   "cell_type": "code",
   "execution_count": 23,
   "id": "07bcee4f-c847-4704-af59-ddf1efc1416f",
   "metadata": {},
   "outputs": [],
   "source": [
    "from numpy.random import normal,seed,uniform\n",
    "np.random.seed(42)"
   ]
  },
  {
   "cell_type": "markdown",
   "id": "a814d61e-ff8c-497d-a509-62f6a2a450cd",
   "metadata": {},
   "source": [
    "Here's a function add_noise that adds some random variation to an array:\n",
    "\n"
   ]
  },
  {
   "cell_type": "code",
   "execution_count": 24,
   "id": "9c316550-60ba-403e-86f4-e98e1ef109f1",
   "metadata": {},
   "outputs": [],
   "source": [
    "def noise(x, scale): return normal(scale=scale, size=x.shape)\n",
    "def add_noise(x, mult, add): return x * (1+noise(x,mult)) + noise(x,add)"
   ]
  },
  {
   "cell_type": "raw",
   "id": "ce6fdd21-cadb-43af-99cf-e481ee389b15",
   "metadata": {},
   "source": [
    "Let's use it to simulate some measurements evenly distributed over time:\n",
    "\n"
   ]
  },
  {
   "cell_type": "code",
   "execution_count": 25,
   "id": "80963d53-0d8f-4cb3-9764-36bd332f2e04",
   "metadata": {},
   "outputs": [
    {
     "data": {
      "image/png": "[encoded data removed]",
      "text/plain": [
       "<Figure size 640x480 with 1 Axes>"
      ]
     },
     "metadata": {},
     "output_type": "display_data"
    }
   ],
   "source": [
    "import matplotlib.pyplot as plt\n",
    "\n",
    "x = np.linspace(-2, 2, num=20)[:,None]\n",
    "y = add_noise(f(x), 0.2, 1.3)\n",
    "plt.scatter(x,y);"
   ]
  },
  {
   "cell_type": "code",
   "execution_count": 26,
   "id": "b797ca6a-a25c-47cd-ab4b-f89a7375ee02",
   "metadata": {},
   "outputs": [
    {
     "name": "stdout",
     "output_type": "stream",
     "text": [
      "huggingface/tokenizers: The current process just got forked, after parallelism has already been used. Disabling parallelism to avoid deadlocks...\n",
      "To disable this warning, you can either:\n",
      "\t- Avoid using `tokenizers` before the fork if possible\n",
      "\t- Explicitly set the environment variable TOKENIZERS_PARALLELISM=(true | false)\n"
     ]
    }
   ],
   "source": [
    "from sklearn.linear_model import LinearRegression\n",
    "from sklearn.preprocessing import PolynomialFeatures\n",
    "from sklearn.pipeline import make_pipeline\n",
    "\n",
    "def plot_poly(degree):\n",
    "    model = make_pipeline(PolynomialFeatures(degree), LinearRegression())\n",
    "    model.fit(x, y)\n",
    "    plt.scatter(x,y)\n",
    "    plot_function(model.predict)\n"
   ]
  },
  {
   "cell_type": "markdown",
   "id": "fe36d398-0fc5-4489-9f9b-1fd4012e680b",
   "metadata": {},
   "source": [
    "So, what happens if we fit a line (a \"degree 1 polynomial\") to our measurements?\n",
    "\n"
   ]
  },
  {
   "cell_type": "code",
   "execution_count": 27,
   "id": "5183e255-2876-49d2-a440-12fab267a2ff",
   "metadata": {},
   "outputs": [
    {
     "data": {
      "image/png": "[encoded data removed]",
      "text/plain": [
       "<Figure size 640x480 with 1 Axes>"
      ]
     },
     "metadata": {},
     "output_type": "display_data"
    }
   ],
   "source": [
    "plot_poly(1)\n"
   ]
  },
  {
   "cell_type": "markdown",
   "id": "5883bac1-31f4-4357-90a9-1557cdee3cc7",
   "metadata": {},
   "source": [
    "As you see, the points on the red line (the line we fitted) aren't very close at all. This is under-fit -- there's not enough detail in our function to match our data.\n",
    "\n",
    "And what happens if we fit a degree 10 polynomial to our measurements?"
   ]
  },
  {
   "cell_type": "code",
   "execution_count": 28,
   "id": "7088a1e7-cd49-4c19-a796-7cb55a1cdf69",
   "metadata": {},
   "outputs": [
    {
     "data": {
      "image/png": "[encoded data removed]",
      "text/plain": [
       "<Figure size 640x480 with 1 Axes>"
      ]
     },
     "metadata": {},
     "output_type": "display_data"
    }
   ],
   "source": [
    "plot_poly(2)"
   ]
  },
  {
   "cell_type": "code",
   "execution_count": 29,
   "id": "10a66ee7-016b-4671-a307-c6da237678c2",
   "metadata": {},
   "outputs": [
    {
     "data": {
      "image/png": "[encoded data removed]",
      "text/plain": [
       "<Figure size 640x480 with 1 Axes>"
      ]
     },
     "metadata": {},
     "output_type": "display_data"
    }
   ],
   "source": [
    "plot_poly(3)"
   ]
  },
  {
   "cell_type": "code",
   "execution_count": 30,
   "id": "93ed5a2b-5aa4-48f2-80c6-035941ba6a8a",
   "metadata": {},
   "outputs": [
    {
     "data": {
      "image/png": "[encoded data removed]",
      "text/plain": [
       "<Figure size 640x480 with 1 Axes>"
      ]
     },
     "metadata": {},
     "output_type": "display_data"
    }
   ],
   "source": [
    "plot_poly(7)"
   ]
  },
  {
   "cell_type": "code",
   "execution_count": 31,
   "id": "ecc72803-ab00-4eda-bd8b-c6bd647718ac",
   "metadata": {},
   "outputs": [
    {
     "data": {
      "image/png": "[encoded data removed]",
      "text/plain": [
       "<Figure size 640x480 with 1 Axes>"
      ]
     },
     "metadata": {},
     "output_type": "display_data"
    }
   ],
   "source": [
    "plot_poly(10)"
   ]
  },
  {
   "cell_type": "markdown",
   "id": "520b209b-4579-4faa-9cfb-e2c57f497407",
   "metadata": {},
   "source": [
    "Well now it fits our data better, but it doesn't look like it'll do a great job predicting points other than those we measured -- especially those in earlier or later time periods. This is over-fit -- there's too much detail such that the model fits our points, but not the underlying process we really care about.\n",
    "\n",
    "Let's try a degree 2 polynomial (a quadratic), and compare it to our \"true\" function (in blue):"
   ]
  },
  {
   "cell_type": "code",
   "execution_count": 32,
   "id": "35e17c60-99c1-453d-a49f-ac5ae8f5aefe",
   "metadata": {},
   "outputs": [
    {
     "data": {
      "image/png": "[encoded data removed]",
      "text/plain": [
       "<Figure size 640x480 with 1 Axes>"
      ]
     },
     "metadata": {},
     "output_type": "display_data"
    }
   ],
   "source": [
    "plot_poly(2)\n",
    "plot_function(f, color='b')"
   ]
  },
  {
   "cell_type": "markdown",
   "id": "d4f9f7d5-1722-4857-8e31-54639232e782",
   "metadata": {},
   "source": [
    "That's not bad at all!\n",
    "\n",
    "So, how do we recognise whether our models are under-fit, over-fit, or \"just right\"? We use a validation set. This is a set of data that we \"hold out\" from training -- we don't let our model see it at all. If you use the fastai library, it automatically creates a validation set for you if you don't have one, and will always report metrics (measurements of the accuracy of a model) using the validation set.\n",
    "\n",
    "The validation set is only ever used to see how we're doing. It's never used as inputs to training the model.\n",
    "\n",
    "Transformers uses a DatasetDict for holding your training and validation sets. To create one that contains 25% of our data for the validation set, and 75% for the training set, use train_test_split:"
   ]
  },
  {
   "cell_type": "code",
   "execution_count": 33,
   "id": "1a68ab5c-4d83-47f1-9979-60b77620d2df",
   "metadata": {},
   "outputs": [
    {
     "data": {
      "text/plain": [
       "DatasetDict({\n",
       "    train: Dataset({\n",
       "        features: ['id', 'anchor', 'target', 'context', 'labels', 'input', 'input_ids', 'token_type_ids', 'attention_mask'],\n",
       "        num_rows: 27354\n",
       "    })\n",
       "    test: Dataset({\n",
       "        features: ['id', 'anchor', 'target', 'context', 'labels', 'input', 'input_ids', 'token_type_ids', 'attention_mask'],\n",
       "        num_rows: 9119\n",
       "    })\n",
       "})"
      ]
     },
     "execution_count": 33,
     "metadata": {},
     "output_type": "execute_result"
    }
   ],
   "source": [
    "dds = toks_ds.train_test_split(0.25, seed=42)\n",
    "dds\n"
   ]
  },
  {
   "cell_type": "raw",
   "id": "ceb40853-7d87-4000-8542-e1cc03a38c43",
   "metadata": {},
   "source": [
    "As you see above, the validation set here is called test and not validate, so be careful!"
   ]
  },
  {
   "cell_type": "markdown",
   "id": "89cdc491-7010-4b9e-b810-85a4767ef1d0",
   "metadata": {},
   "source": [
    "In practice, a random split like we've used here might not be a good idea -- here's what Dr Rachel Thomas has to say about it:\n",
    "\n",
    "\"One of the most likely culprits for this disconnect between results in development vs results in production is a poorly chosen validation set (or even worse, no validation set at all). Depending on the nature of your data, choosing a validation set can be the most important step. Although sklearn offers a train_test_split method, this method takes a random subset of the data, which is a poor choice for many real-world problems.\"\n",
    "\n"
   ]
  },
  {
   "cell_type": "raw",
   "id": "fbe9598c-6280-46e3-8839-9dc27da82510",
   "metadata": {},
   "source": [
    "Test set¶\n"
   ]
  },
  {
   "cell_type": "markdown",
   "id": "bb6920ef-5587-497f-b1c3-7a1d51f9893d",
   "metadata": {},
   "source": [
    "So that's the validation set explained, and created. What about the \"test set\" then -- what's that for?\n",
    "\n",
    "The test set is yet another dataset that's held out from training. But it's held out from reporting metrics too! The accuracy of your model on the test set is only ever checked after you've completed your entire training process, including trying different models, training methods, data processing, etc.\n",
    "\n",
    "You see, as you try all these different things, to see their impact on the metrics on the validation set, you might just accidentally find a few things that entirely coincidentally improve your validation set metrics, but aren't really better in practice. Given enough time and experiments, you'll find lots of these coincidental improvements. That means you're actually over-fitting to your validation set!\n",
    "\n",
    "That's why we keep a test set held back. Kaggle's public leaderboard is like a test set that you can check from time to time. But don't check too often, or you'll be even over-fitting to the test set!\n",
    "\n",
    "Kaggle has a second test set, which is yet another held-out dataset that's only used at the end of the competition to assess your predictions. That's called the \"private leaderboard\". Here's a great post about what can happen if you overfit to the public leaderboard.\n",
    "\n",
    "We'll use eval as our name for the test set, to avoid confusion with the test dataset that was created above.\n",
    "\n"
   ]
  },
  {
   "cell_type": "code",
   "execution_count": 34,
   "id": "cfab2ddd-a7cf-4792-9e17-dc544e5697a5",
   "metadata": {},
   "outputs": [
    {
     "data": {
      "application/vnd.jupyter.widget-view+json": {
       "model_id": "179e40eb319b4ca1b8c413375024821d",
       "version_major": 2,
       "version_minor": 0
      },
      "text/plain": [
       "Map:   0%|          | 0/36 [00:00<?, ? examples/s]"
      ]
     },
     "metadata": {},
     "output_type": "display_data"
    }
   ],
   "source": [
    "eval_df['input'] = 'TEXT1: ' + eval_df.context + '; TEXT2: ' + eval_df.target + '; ANC1: ' + eval_df.anchor\n",
    "eval_ds = Dataset.from_pandas(eval_df).map(tok_func, batched=True)"
   ]
  },
  {
   "cell_type": "markdown",
   "id": "c2b49fdc-7c78-4b0c-9dda-7390f7d5e65d",
   "metadata": {},
   "source": [
    "Metrics and correlation\n",
    "When we're training a model, there will be one or more metrics that we're interested in maximising or minimising. These are the measurements that should, hopefully, represent how well our model will works for us.\n",
    "\n"
   ]
  },
  {
   "cell_type": "markdown",
   "id": "6d19e246-b7c2-4384-9096-339ca65834a8",
   "metadata": {},
   "source": [
    "it's very straightforward to know what metric to use: Kaggle will tell you! According to this competition's evaluation page, \"submissions are evaluated on the Pearson correlation coefficient between the predicted and actual similarity scores.\" This coefficient is usually abbreviated using the single letter r. It is the most widely used measure of the degree of relationship between two variables.\n",
    "\n",
    "r can vary between -1, which means perfect inverse correlation, and +1, which means perfect positive correlation. The mathematical formula for it is much less important than getting a good intuition for what the different values look like."
   ]
  },
  {
   "cell_type": "code",
   "execution_count": 35,
   "id": "0abf7ef6-9704-4758-b06d-6b30d6b7cf5a",
   "metadata": {},
   "outputs": [],
   "source": [
    "def corr_d(eval_pred): return {'pearson': corr(*eval_pred)}\n"
   ]
  },
  {
   "cell_type": "markdown",
   "id": "cbad3c60-f032-4540-b139-444d77147a0a",
   "metadata": {},
   "source": [
    "Training our model"
   ]
  },
  {
   "cell_type": "markdown",
   "id": "8c6a82a7-51c9-43c1-aa9b-818d9ddc7b84",
   "metadata": {},
   "source": [
    "To train a model in Transformers we'll need this:"
   ]
  },
  {
   "cell_type": "code",
   "execution_count": 36,
   "id": "87d3d1c2-ba5a-4970-aa5b-772251450bf7",
   "metadata": {},
   "outputs": [],
   "source": [
    "from transformers import TrainingArguments,Trainer"
   ]
  },
  {
   "cell_type": "code",
   "execution_count": 37,
   "id": "2d0bdb19-8b1c-42d2-a541-d95bc564d68b",
   "metadata": {},
   "outputs": [],
   "source": [
    "bs = 128\n",
    "epochs = 4\n",
    "#We pick a batch size that fits our GPU, and small number of epochs so we can run experiments quickly:"
   ]
  },
  {
   "cell_type": "code",
   "execution_count": 38,
   "id": "271e50a9-850c-4c18-87c8-1397b4f1ad1f",
   "metadata": {},
   "outputs": [],
   "source": [
    "lr = 8e-5\n",
    "#The most important hyperparameter is the learning rate. fastai provides a learning rate finder to help you figure this out, but Transformers doesn't, so you'll just have to use trial and error. The idea is to find the largest value you can, but which doesn't result in training failing."
   ]
  },
  {
   "cell_type": "markdown",
   "id": "0c5ca183-3a80-4b7e-b560-4d81282f1853",
   "metadata": {},
   "source": [
    "Transformers uses the TrainingArguments class to set up arguments. Don't worry too much about the values we're using here -- they should generally work fine in most cases. It's just the 3 parameters above that you may need to change for different models."
   ]
  },
  {
   "cell_type": "code",
   "execution_count": 40,
   "id": "e2bc5173-459f-48af-a379-f547d6c82c91",
   "metadata": {},
   "outputs": [],
   "source": [
    "args = TrainingArguments('outputs', learning_rate=lr, warmup_ratio=0.1, lr_scheduler_type='cosine', fp16=False,\n",
    "    evaluation_strategy=\"epoch\", per_device_train_batch_size=bs, per_device_eval_batch_size=bs*2,\n",
    "    num_train_epochs=epochs, weight_decay=0.01, report_to='none')\n"
   ]
  },
  {
   "cell_type": "code",
   "execution_count": 41,
   "id": "71928518-7649-41ca-937c-16e85014f96c",
   "metadata": {},
   "outputs": [
    {
     "data": {
      "application/vnd.jupyter.widget-view+json": {
       "model_id": "b2715d5e51f44f64a1062c978cde0811",
       "version_major": 2,
       "version_minor": 0
      },
      "text/plain": [
       "Downloading model.safetensors:   0%|          | 0.00/440M [00:00<?, ?B/s]"
      ]
     },
     "metadata": {},
     "output_type": "display_data"
    },
    {
     "name": "stderr",
     "output_type": "stream",
     "text": [
      "Some weights of BertForSequenceClassification were not initialized from the model checkpoint at bert-base-uncased and are newly initialized: ['classifier.weight', 'classifier.bias']\n",
      "You should probably TRAIN this model on a down-stream task to be able to use it for predictions and inference.\n"
     ]
    }
   ],
   "source": [
    "model = AutoModelForSequenceClassification.from_pretrained(model_nm, num_labels=1)\n",
    "trainer = Trainer(model, args, train_dataset=dds['train'], eval_dataset=dds['test'],\n",
    "                  tokenizer=tokz, compute_metrics=corr_d)"
   ]
  },
  {
   "cell_type": "markdown",
   "id": "50fcb13c-4064-4b5e-a8ab-eae307f91374",
   "metadata": {},
   "source": [
    "We can now create our model, and Trainer, which is a class which combines the data and model together (just like Learner in fastai):"
   ]
  },
  {
   "cell_type": "code",
   "execution_count": 42,
   "id": "99382aa2-bb76-42fa-b35e-311a3f619cb3",
   "metadata": {},
   "outputs": [
    {
     "name": "stderr",
     "output_type": "stream",
     "text": [
      "You're using a BertTokenizerFast tokenizer. Please note that with a fast tokenizer, using the `__call__` method is faster than using a method to encode the text followed by a call to the `pad` method to get a padded encoding.\n"
     ]
    },
    {
     "data": {
      "text/html": [
       "\n",
       "    <div>\n",
       "      \n",
       "      <progress value='53' max='856' style='width:300px; height:20px; vertical-align: middle;'></progress>\n",
       "      [ 53/856 44:36 < 11:42:28, 0.02 it/s, Epoch 0.24/4]\n",
       "    </div>\n",
       "    <table border=\"1\" class=\"dataframe\">\n",
       "  <thead>\n",
       " <tr style=\"text-align: left;\">\n",
       "      <th>Epoch</th>\n",
       "      <th>Training Loss</th>\n",
       "      <th>Validation Loss</th>\n",
       "    </tr>\n",
       "  </thead>\n",
       "  <tbody>\n",
       "  </tbody>\n",
       "</table><p>"
      ],
      "text/plain": [
       "<IPython.core.display.HTML object>"
      ]
     },
     "metadata": {},
     "output_type": "display_data"
    },
    {
     "name": "stderr",
     "output_type": "stream",
     "text": [
      "\n",
      "KeyboardInterrupt\n",
      "\n"
     ]
    }
   ],
   "source": [
    "trainer.train();"
   ]
  },
  {
   "cell_type": "code",
   "execution_count": null,
   "id": "80419c3f-b4bb-45e4-8fa1-5772c4df7dfc",
   "metadata": {},
   "outputs": [],
   "source": []
  }
 ],
 "metadata": {
  "kernelspec": {
   "display_name": "Python 3 (ipykernel)",
   "language": "python",
   "name": "python3"
  },
  "language_info": {
   "codemirror_mode": {
    "name": "ipython",
    "version": 3
   },
   "file_extension": ".py",
   "mimetype": "text/x-python",
   "name": "python",
   "nbconvert_exporter": "python",
   "pygments_lexer": "ipython3",
   "version": "3.11.4"
  }
 },
 "nbformat": 4,
 "nbformat_minor": 5
}
